{
 "cells": [
  {
   "cell_type": "code",
   "execution_count": 1,
   "metadata": {},
   "outputs": [],
   "source": [
    "import librosa\n",
    "import numpy as np\n",
    "import pandas as pd\n",
    "import os\n",
    "import matplotlib.pyplot as plt\n",
    "from librosa.feature import mfcc\n",
    "from sklearn.decomposition import PCA\n",
    "from sklearn.preprocessing import StandardScaler\n",
    "from sklearn.model_selection import train_test_split\n",
    "from sklearn.svm import SVC\n",
    "import matplotlib.pyplot as plt\n",
    "import seaborn as sns\n",
    "from sklearn.metrics import accuracy_score, classification_report, confusion_matrix\n",
    "from scipy.stats import multivariate_normal\n",
    "from scipy.special import logsumexp\n",
    "from sklearn.svm import SVC\n",
    "from sklearn.metrics import confusion_matrix, ConfusionMatrixDisplay, accuracy_score\n",
    "\n"
   ]
  },
  {
   "cell_type": "code",
   "execution_count": 2,
   "metadata": {},
   "outputs": [
    {
     "data": {
      "text/html": [
       "<div>\n",
       "<style scoped>\n",
       "    .dataframe tbody tr th:only-of-type {\n",
       "        vertical-align: middle;\n",
       "    }\n",
       "\n",
       "    .dataframe tbody tr th {\n",
       "        vertical-align: top;\n",
       "    }\n",
       "\n",
       "    .dataframe thead th {\n",
       "        text-align: right;\n",
       "    }\n",
       "</style>\n",
       "<table border=\"1\" class=\"dataframe\">\n",
       "  <thead>\n",
       "    <tr style=\"text-align: right;\">\n",
       "      <th></th>\n",
       "      <th>Emotions</th>\n",
       "      <th>Path</th>\n",
       "    </tr>\n",
       "  </thead>\n",
       "  <tbody>\n",
       "    <tr>\n",
       "      <th>7432</th>\n",
       "      <td>Neutral</td>\n",
       "      <td>/Users/mykhailoponomarenko/Desktop/UCU year 2 ...</td>\n",
       "    </tr>\n",
       "    <tr>\n",
       "      <th>7433</th>\n",
       "      <td>Fear</td>\n",
       "      <td>/Users/mykhailoponomarenko/Desktop/UCU year 2 ...</td>\n",
       "    </tr>\n",
       "    <tr>\n",
       "      <th>7434</th>\n",
       "      <td>Neutral</td>\n",
       "      <td>/Users/mykhailoponomarenko/Desktop/UCU year 2 ...</td>\n",
       "    </tr>\n",
       "    <tr>\n",
       "      <th>7435</th>\n",
       "      <td>Happy</td>\n",
       "      <td>/Users/mykhailoponomarenko/Desktop/UCU year 2 ...</td>\n",
       "    </tr>\n",
       "    <tr>\n",
       "      <th>7436</th>\n",
       "      <td>Disgust</td>\n",
       "      <td>/Users/mykhailoponomarenko/Desktop/UCU year 2 ...</td>\n",
       "    </tr>\n",
       "    <tr>\n",
       "      <th>7437</th>\n",
       "      <td>Angry</td>\n",
       "      <td>/Users/mykhailoponomarenko/Desktop/UCU year 2 ...</td>\n",
       "    </tr>\n",
       "    <tr>\n",
       "      <th>7438</th>\n",
       "      <td>Angry</td>\n",
       "      <td>/Users/mykhailoponomarenko/Desktop/UCU year 2 ...</td>\n",
       "    </tr>\n",
       "    <tr>\n",
       "      <th>7439</th>\n",
       "      <td>Angry</td>\n",
       "      <td>/Users/mykhailoponomarenko/Desktop/UCU year 2 ...</td>\n",
       "    </tr>\n",
       "    <tr>\n",
       "      <th>7440</th>\n",
       "      <td>Angry</td>\n",
       "      <td>/Users/mykhailoponomarenko/Desktop/UCU year 2 ...</td>\n",
       "    </tr>\n",
       "    <tr>\n",
       "      <th>7441</th>\n",
       "      <td>Neutral</td>\n",
       "      <td>/Users/mykhailoponomarenko/Desktop/UCU year 2 ...</td>\n",
       "    </tr>\n",
       "  </tbody>\n",
       "</table>\n",
       "</div>"
      ],
      "text/plain": [
       "     Emotions                                               Path\n",
       "7432  Neutral  /Users/mykhailoponomarenko/Desktop/UCU year 2 ...\n",
       "7433     Fear  /Users/mykhailoponomarenko/Desktop/UCU year 2 ...\n",
       "7434  Neutral  /Users/mykhailoponomarenko/Desktop/UCU year 2 ...\n",
       "7435    Happy  /Users/mykhailoponomarenko/Desktop/UCU year 2 ...\n",
       "7436  Disgust  /Users/mykhailoponomarenko/Desktop/UCU year 2 ...\n",
       "7437    Angry  /Users/mykhailoponomarenko/Desktop/UCU year 2 ...\n",
       "7438    Angry  /Users/mykhailoponomarenko/Desktop/UCU year 2 ...\n",
       "7439    Angry  /Users/mykhailoponomarenko/Desktop/UCU year 2 ...\n",
       "7440    Angry  /Users/mykhailoponomarenko/Desktop/UCU year 2 ...\n",
       "7441  Neutral  /Users/mykhailoponomarenko/Desktop/UCU year 2 ..."
      ]
     },
     "execution_count": 2,
     "metadata": {},
     "output_type": "execute_result"
    }
   ],
   "source": [
    "crema = '/Users/mykhailoponomarenko/Desktop/UCU year 2 sem 2/Linear algebra/SER/CREMA'\n",
    "crema_dir = os.listdir(crema)\n",
    "emotions = []\n",
    "path_file = []\n",
    "for audio in crema_dir :\n",
    "    path_file.append(crema +'/'+ audio)\n",
    "    parts = audio.split(\"_\")\n",
    "    if \"ANG\" in parts:\n",
    "        emotions.append(\"Angry\")\n",
    "    elif \"DIS\" in parts:\n",
    "        emotions.append(\"Disgust\")\n",
    "    elif \"FEA\" in parts:\n",
    "        emotions.append(\"Fear\")\n",
    "    elif \"HAP\" in parts:\n",
    "        emotions.append(\"Happy\")\n",
    "    elif \"SAD\" in parts:\n",
    "        emotions.append(\"Sad\")\n",
    "    elif \"NEU\" in parts:\n",
    "        emotions.append(\"Neutral\")\n",
    "# MAKE THIS INFORMATION INTO DATAFRAME\n",
    "emotion_df = pd.DataFrame(emotions, columns=[\"Emotions\"])\n",
    "filePath_df = pd.DataFrame(path_file, columns=[\"Path\"])\n",
    "\n",
    "crema_df = pd.concat([emotion_df, filePath_df], axis=1)\n",
    "crema_df.tail(10)"
   ]
  },
  {
   "cell_type": "code",
   "execution_count": 3,
   "metadata": {},
   "outputs": [
    {
     "name": "stdout",
     "output_type": "stream",
     "text": [
      "Skip\n"
     ]
    },
    {
     "data": {
      "text/html": [
       "<div>\n",
       "<style scoped>\n",
       "    .dataframe tbody tr th:only-of-type {\n",
       "        vertical-align: middle;\n",
       "    }\n",
       "\n",
       "    .dataframe tbody tr th {\n",
       "        vertical-align: top;\n",
       "    }\n",
       "\n",
       "    .dataframe thead th {\n",
       "        text-align: right;\n",
       "    }\n",
       "</style>\n",
       "<table border=\"1\" class=\"dataframe\">\n",
       "  <thead>\n",
       "    <tr style=\"text-align: right;\">\n",
       "      <th></th>\n",
       "      <th>Emotions</th>\n",
       "      <th>Path</th>\n",
       "    </tr>\n",
       "  </thead>\n",
       "  <tbody>\n",
       "    <tr>\n",
       "      <th>0</th>\n",
       "      <td>Disgust</td>\n",
       "      <td>/Users/mykhailoponomarenko/Desktop/UCU year 2 ...</td>\n",
       "    </tr>\n",
       "    <tr>\n",
       "      <th>1</th>\n",
       "      <td>Disgust</td>\n",
       "      <td>/Users/mykhailoponomarenko/Desktop/UCU year 2 ...</td>\n",
       "    </tr>\n",
       "    <tr>\n",
       "      <th>2</th>\n",
       "      <td>Disgust</td>\n",
       "      <td>/Users/mykhailoponomarenko/Desktop/UCU year 2 ...</td>\n",
       "    </tr>\n",
       "    <tr>\n",
       "      <th>3</th>\n",
       "      <td>Disgust</td>\n",
       "      <td>/Users/mykhailoponomarenko/Desktop/UCU year 2 ...</td>\n",
       "    </tr>\n",
       "    <tr>\n",
       "      <th>4</th>\n",
       "      <td>Disgust</td>\n",
       "      <td>/Users/mykhailoponomarenko/Desktop/UCU year 2 ...</td>\n",
       "    </tr>\n",
       "    <tr>\n",
       "      <th>...</th>\n",
       "      <td>...</td>\n",
       "      <td>...</td>\n",
       "    </tr>\n",
       "    <tr>\n",
       "      <th>2795</th>\n",
       "      <td>Sad</td>\n",
       "      <td>/Users/mykhailoponomarenko/Desktop/UCU year 2 ...</td>\n",
       "    </tr>\n",
       "    <tr>\n",
       "      <th>2796</th>\n",
       "      <td>Sad</td>\n",
       "      <td>/Users/mykhailoponomarenko/Desktop/UCU year 2 ...</td>\n",
       "    </tr>\n",
       "    <tr>\n",
       "      <th>2797</th>\n",
       "      <td>Sad</td>\n",
       "      <td>/Users/mykhailoponomarenko/Desktop/UCU year 2 ...</td>\n",
       "    </tr>\n",
       "    <tr>\n",
       "      <th>2798</th>\n",
       "      <td>Sad</td>\n",
       "      <td>/Users/mykhailoponomarenko/Desktop/UCU year 2 ...</td>\n",
       "    </tr>\n",
       "    <tr>\n",
       "      <th>2799</th>\n",
       "      <td>Sad</td>\n",
       "      <td>/Users/mykhailoponomarenko/Desktop/UCU year 2 ...</td>\n",
       "    </tr>\n",
       "  </tbody>\n",
       "</table>\n",
       "<p>2800 rows × 2 columns</p>\n",
       "</div>"
      ],
      "text/plain": [
       "     Emotions                                               Path\n",
       "0     Disgust  /Users/mykhailoponomarenko/Desktop/UCU year 2 ...\n",
       "1     Disgust  /Users/mykhailoponomarenko/Desktop/UCU year 2 ...\n",
       "2     Disgust  /Users/mykhailoponomarenko/Desktop/UCU year 2 ...\n",
       "3     Disgust  /Users/mykhailoponomarenko/Desktop/UCU year 2 ...\n",
       "4     Disgust  /Users/mykhailoponomarenko/Desktop/UCU year 2 ...\n",
       "...       ...                                                ...\n",
       "2795      Sad  /Users/mykhailoponomarenko/Desktop/UCU year 2 ...\n",
       "2796      Sad  /Users/mykhailoponomarenko/Desktop/UCU year 2 ...\n",
       "2797      Sad  /Users/mykhailoponomarenko/Desktop/UCU year 2 ...\n",
       "2798      Sad  /Users/mykhailoponomarenko/Desktop/UCU year 2 ...\n",
       "2799      Sad  /Users/mykhailoponomarenko/Desktop/UCU year 2 ...\n",
       "\n",
       "[2800 rows x 2 columns]"
      ]
     },
     "execution_count": 3,
     "metadata": {},
     "output_type": "execute_result"
    }
   ],
   "source": [
    "tess='/Users/mykhailoponomarenko/Desktop/UCU year 2 sem 2/Linear algebra/SER/TESS'\n",
    "tess_dir = os.listdir(tess)\n",
    "emotions = []\n",
    "filepath = []\n",
    "\n",
    "for dir in tess_dir:\n",
    "    try:\n",
    "        folder = os.listdir(tess+'/'+dir)\n",
    "        for audio in folder:\n",
    "            #print(audio)\n",
    "            audio_description = audio.split(\".\")[0]\n",
    "            file = audio_description.split(\"_\")\n",
    "            if 'ps' in file:\n",
    "                emotions.append('Surprised')\n",
    "            elif len(file)==2:\n",
    "                emotions.append(file[1])\n",
    "\n",
    "            else:\n",
    "                emotions.append(file[2])\n",
    "            filepath.append(tess+'/'+dir+\"/\"+audio)\n",
    "    except:\n",
    "        print('Skip')\n",
    "\n",
    "\n",
    "emotions_df = pd.DataFrame(emotions, columns=[\"Emotions\"])\n",
    "pathFile_df = pd.DataFrame(filepath, columns=[\"Path\"])\n",
    "\n",
    "tess_df = pd.concat([emotions_df, pathFile_df], axis=1)\n",
    "tess_df['Emotions'] = tess_df['Emotions'].replace({\"neutral\":'Neutral', \"happy\":'Happy', \"sad\":'Sad', \"angry\":'Angry', \"fear\":'Fear', 'disgust':'Disgust', 'surprised':'Surprised'})\n",
    "tess_df['Emotions'] = tess_df['Emotions'].replace('surprise', 'Surprised')\n",
    "\n",
    "\n",
    "tess_df"
   ]
  },
  {
   "cell_type": "code",
   "execution_count": 4,
   "metadata": {},
   "outputs": [
    {
     "name": "stdout",
     "output_type": "stream",
     "text": [
      "Passed\n"
     ]
    },
    {
     "data": {
      "text/html": [
       "<div>\n",
       "<style scoped>\n",
       "    .dataframe tbody tr th:only-of-type {\n",
       "        vertical-align: middle;\n",
       "    }\n",
       "\n",
       "    .dataframe tbody tr th {\n",
       "        vertical-align: top;\n",
       "    }\n",
       "\n",
       "    .dataframe thead th {\n",
       "        text-align: right;\n",
       "    }\n",
       "</style>\n",
       "<table border=\"1\" class=\"dataframe\">\n",
       "  <thead>\n",
       "    <tr style=\"text-align: right;\">\n",
       "      <th></th>\n",
       "      <th>Emotions</th>\n",
       "      <th>Path</th>\n",
       "    </tr>\n",
       "  </thead>\n",
       "  <tbody>\n",
       "    <tr>\n",
       "      <th>0</th>\n",
       "      <td>Angry</td>\n",
       "      <td>/Users/mykhailoponomarenko/Desktop/UCU year 2 ...</td>\n",
       "    </tr>\n",
       "    <tr>\n",
       "      <th>1</th>\n",
       "      <td>Fear</td>\n",
       "      <td>/Users/mykhailoponomarenko/Desktop/UCU year 2 ...</td>\n",
       "    </tr>\n",
       "    <tr>\n",
       "      <th>2</th>\n",
       "      <td>Fear</td>\n",
       "      <td>/Users/mykhailoponomarenko/Desktop/UCU year 2 ...</td>\n",
       "    </tr>\n",
       "    <tr>\n",
       "      <th>3</th>\n",
       "      <td>Angry</td>\n",
       "      <td>/Users/mykhailoponomarenko/Desktop/UCU year 2 ...</td>\n",
       "    </tr>\n",
       "    <tr>\n",
       "      <th>4</th>\n",
       "      <td>Disgust</td>\n",
       "      <td>/Users/mykhailoponomarenko/Desktop/UCU year 2 ...</td>\n",
       "    </tr>\n",
       "  </tbody>\n",
       "</table>\n",
       "</div>"
      ],
      "text/plain": [
       "  Emotions                                               Path\n",
       "0    Angry  /Users/mykhailoponomarenko/Desktop/UCU year 2 ...\n",
       "1     Fear  /Users/mykhailoponomarenko/Desktop/UCU year 2 ...\n",
       "2     Fear  /Users/mykhailoponomarenko/Desktop/UCU year 2 ...\n",
       "3    Angry  /Users/mykhailoponomarenko/Desktop/UCU year 2 ...\n",
       "4  Disgust  /Users/mykhailoponomarenko/Desktop/UCU year 2 ..."
      ]
     },
     "execution_count": 4,
     "metadata": {},
     "output_type": "execute_result"
    }
   ],
   "source": [
    "ravdess='/Users/mykhailoponomarenko/Desktop/UCU year 2 sem 2/Linear algebra/SER/RAVDESS'\n",
    "ravdess_dir = os.listdir(ravdess)\n",
    "\n",
    "ravdees_dir =ravdess_dir[0]\n",
    "emotions = []\n",
    "path_file = []\n",
    "\n",
    "for directory in ravdess_dir:\n",
    "    try:\n",
    "        actor = os.listdir(ravdess+\"/\"+directory)\n",
    "        for audio in actor:\n",
    "            file_info = audio.split(\"-\")\n",
    "            emotions.append(int(file_info[2]))\n",
    "            path_file.append(ravdess+'/'+directory+\"/\"+audio)\n",
    "    except:\n",
    "        print('Passed')\n",
    "## DATAFRAME\n",
    "emotions_df = pd.DataFrame(emotions, columns=[\"Emotions\"])\n",
    "pathFile_df = pd.DataFrame(path_file, columns=[\"Path\"])\n",
    "\n",
    "ravdess_df = pd.concat([emotions_df, pathFile_df], axis=1)\n",
    "ravdess_df['Emotions'] = ravdess_df['Emotions'].replace({1:'Neutral', 2:'Calm', 3:'Happy', 4:'Sad', 5:'Angry', 6:'Fear', 7:'Disgust', 8:'Surprise'})\n",
    "ravdess_df.head()"
   ]
  },
  {
   "cell_type": "code",
   "execution_count": 5,
   "metadata": {},
   "outputs": [
    {
     "name": "stdout",
     "output_type": "stream",
     "text": [
      "['Angry' 'Neutral' 'Disgust' 'Sad' 'Fear' 'Happy' 'Surprised']\n"
     ]
    }
   ],
   "source": [
    "df = pd.concat([crema_df,ravdess_df, tess_df],axis=0)\n",
    "df['Emotions'] = df['Emotions'].replace('Surprise', 'Surprised')\n",
    "df['Emotions'] = df['Emotions'].replace('Calm', 'Neutral')\n",
    "len(df)\n",
    "print(df[\"Emotions\"].unique())\n"
   ]
  },
  {
   "cell_type": "code",
   "execution_count": 8,
   "metadata": {},
   "outputs": [
    {
     "name": "stdout",
     "output_type": "stream",
     "text": [
      "  Emotions                                               Path\n",
      "0    Angry  /Users/mykhailoponomarenko/Desktop/UCU year 2 ...\n",
      "1    Angry  /Users/mykhailoponomarenko/Desktop/UCU year 2 ...\n",
      "2  Neutral  /Users/mykhailoponomarenko/Desktop/UCU year 2 ...\n",
      "3  Neutral  /Users/mykhailoponomarenko/Desktop/UCU year 2 ...\n",
      "4  Disgust  /Users/mykhailoponomarenko/Desktop/UCU year 2 ...\n"
     ]
    }
   ],
   "source": [
    "print(df.head())\n",
    "def smpl(row):\n",
    "    X, sample_rate = librosa.load(row[\"Path\"], sr=None)\n",
    "    return pd.Series([X, sample_rate])\n",
    "df[[\"sample\", \"sample_rate\"]] = df.apply(smpl, axis = 1)"
   ]
  },
  {
   "cell_type": "code",
   "execution_count": 9,
   "metadata": {},
   "outputs": [
    {
     "name": "stdout",
     "output_type": "stream",
     "text": [
      "  Emotions                                               Path  \\\n",
      "0    Angry  /Users/mykhailoponomarenko/Desktop/UCU year 2 ...   \n",
      "1    Angry  /Users/mykhailoponomarenko/Desktop/UCU year 2 ...   \n",
      "2  Neutral  /Users/mykhailoponomarenko/Desktop/UCU year 2 ...   \n",
      "3  Neutral  /Users/mykhailoponomarenko/Desktop/UCU year 2 ...   \n",
      "4  Disgust  /Users/mykhailoponomarenko/Desktop/UCU year 2 ...   \n",
      "\n",
      "                                              sample  sample_rate  \n",
      "0  [0.00024414062, -0.0012512207, -0.002532959, -...        16000  \n",
      "1  [0.00012207031, 9.1552734e-05, 0.00064086914, ...        16000  \n",
      "2  [0.0023498535, 0.003112793, 0.0032653809, 0.00...        16000  \n",
      "3  [-0.002319336, -0.002166748, -0.0039978027, -0...        16000  \n",
      "4  [-0.0051879883, -0.005859375, -0.007385254, -0...        16000  \n"
     ]
    }
   ],
   "source": [
    "print(df.head())\n",
    "def row_mfcc(row):\n",
    "    mfcc_features = mfcc(y=row[\"sample\"], sr=row[\"sample_rate\"], n_mfcc=100)\n",
    "    mean_mfcc = np.mean(mfcc_features, axis=1)\n",
    "    var_mfcc = np.var(mfcc_features, axis=1)\n",
    "    return np.concatenate((mean_mfcc, var_mfcc)) \n",
    "\n",
    "df[\"mfcc\"] = df.apply(row_mfcc, axis=1)"
   ]
  },
  {
   "cell_type": "code",
   "execution_count": 10,
   "metadata": {},
   "outputs": [
    {
     "name": "stdout",
     "output_type": "stream",
     "text": [
      "0       [-236.38174, 83.46347, 16.295732, 33.203766, -...\n",
      "1       [-309.6948, 98.22966, 34.21283, 22.234697, -5....\n",
      "2       [-381.4066, 103.938866, 35.128143, 23.225817, ...\n",
      "3       [-374.81824, 108.60301, 42.59774, 26.419222, 1...\n",
      "4       [-382.00946, 109.52068, 38.729843, 38.809593, ...\n",
      "                              ...                        \n",
      "2795    [-558.90485, 74.31091, 30.648285, 19.612307, 1...\n",
      "2796    [-539.48517, 73.37069, 34.94315, 15.767685, 18...\n",
      "2797    [-510.97333, 88.17185, 27.160797, 9.597875, 14...\n",
      "2798    [-546.9418, 97.40004, 36.109234, 6.8424134, 6....\n",
      "2799    [-537.5809, 83.45699, 32.832172, 11.967912, 15...\n",
      "Name: mfcc, Length: 11682, dtype: object\n"
     ]
    }
   ],
   "source": [
    "print(df[\"mfcc\"])"
   ]
  },
  {
   "cell_type": "code",
   "execution_count": 11,
   "metadata": {},
   "outputs": [],
   "source": [
    "df['Emotions'] = df['Emotions'].replace('Calm', 'Neutral')\n",
    "\n",
    "table = np.array(df['mfcc'].tolist())\n",
    "pca = PCA(50)\n",
    "pcaed_table = pca.fit_transform(table)\n",
    "\n",
    "scaler = StandardScaler()\n",
    "final_table = scaler.fit_transform(pcaed_table)\n",
    "\n"
   ]
  },
  {
   "cell_type": "code",
   "execution_count": 12,
   "metadata": {},
   "outputs": [
    {
     "name": "stdout",
     "output_type": "stream",
     "text": [
      "[[ 1.0312126  -0.5112189   0.73641574 ...  0.903368    0.958673\n",
      "   0.11193482]\n",
      " [-0.38074583  0.19626287  1.1469133  ... -1.2045572  -0.51368064\n",
      "  -0.24238496]\n",
      " [-1.280677   -0.4016139  -0.5553474  ...  0.25422132  0.17232254\n",
      "   0.28872266]\n",
      " ...\n",
      " [-0.4686737   1.1599287  -0.550059   ... -0.5033488  -1.3174818\n",
      "  -0.13303736]\n",
      " [-0.18269193  1.7981266  -0.60329187 ...  0.22381376 -0.02975501\n",
      "  -1.5028449 ]\n",
      " [-0.91983896  1.3928922  -0.6062842  ... -0.12884666  5.0070553\n",
      "  -2.0811932 ]]\n"
     ]
    }
   ],
   "source": [
    "print(final_table)\n",
    "X_train, X_test, y_train, y_test = train_test_split(final_table,np.array(df['Emotions'].tolist()), test_size=0.2, train_size=0.8)"
   ]
  },
  {
   "cell_type": "code",
   "execution_count": 13,
   "metadata": {},
   "outputs": [],
   "source": [
    "class SVM:\n",
    "    def __init__(self, learning_rate=0.001, c=1, iters=10000):\n",
    "        self.lr = learning_rate \n",
    "        self.regpar = c    \n",
    "        self.iters = iters       \n",
    "\n",
    "    def fit(self, X, y):\n",
    "        vector_size = X.shape[1]  \n",
    "        \n",
    "\n",
    "        self.slope = np.random.uniform(-10, 10, size=vector_size)\n",
    "        self.intercept = 0\n",
    "\n",
    "        for _ in range(self.iters):\n",
    "            for index, x in enumerate(X):\n",
    "                value = y[index] * (np.dot(self.slope, x) - self.intercept)\n",
    "                \n",
    "                if value >= 1:\n",
    "                    self.slope -= 2 * self.slope * self.lr\n",
    "                else:\n",
    "                    self.slope -= self.lr * (2  * self.slope - self.regpar * y[index] * x)\n",
    "                    self.intercept -= self.lr * y[index] * self.regpar\n",
    "\n",
    "    def predict(self, X_test):\n",
    "\n",
    "        return np.sign(np.dot(X_test, self.slope) - self.intercept)\n"
   ]
  },
  {
   "cell_type": "code",
   "execution_count": 14,
   "metadata": {},
   "outputs": [],
   "source": [
    "class OneToOneSVM:\n",
    "    def __init__(self, learning_rate=0.001, c=1.0, iters=1000):\n",
    "        self.lr = learning_rate \n",
    "        self.regpar = c      \n",
    "        self.iters = iters \n",
    "        self.classifiers = {}\n",
    "\n",
    "    def fit(self, X, y):\n",
    "        self.classes = np.unique(y) \n",
    "        self.classifiers = {} \n",
    "\n",
    "        l = len(self.classes)\n",
    "        for i in range(l):\n",
    "            for j in range(i + 1, l):\n",
    "                class_i = self.classes[i]\n",
    "                class_j = self.classes[j]\n",
    "\n",
    "                idx = np.where((y == class_i) | (y == class_j))[0]\n",
    "                X_ij = X[idx]\n",
    "                y_ij = y[idx]\n",
    "                \n",
    "                y_ij = np.where(y_ij == class_i, -1, 1)\n",
    "\n",
    "                svm = SVM(learning_rate=self.lr, c=self.regpar, iters=self.iters)\n",
    "                svm.fit(X_ij, y_ij)\n",
    "                self.classifiers[(class_i, class_j)] = svm\n",
    "\n",
    "    def predict(self, X):\n",
    "        votes = []\n",
    "\n",
    "        for x in X:\n",
    "            classifier_votes = {}\n",
    "\n",
    "            for (class_i, class_j), clf in self.classifiers.items():\n",
    "                prediction = clf.predict([x])[0]\n",
    "                if prediction == 1:\n",
    "                    if class_j in classifier_votes:\n",
    "                        classifier_votes[class_j] += 1\n",
    "                    else:\n",
    "                        classifier_votes[class_j] = 1\n",
    "                else:\n",
    "                    if class_i in classifier_votes:\n",
    "                        classifier_votes[class_i] += 1\n",
    "                    else:\n",
    "                        classifier_votes[class_i] = 1\n",
    "\n",
    "            predicted_class = max(classifier_votes, key=classifier_votes.get)\n",
    "            votes.append(predicted_class)\n",
    "\n",
    "        return np.array(votes)"
   ]
  },
  {
   "cell_type": "code",
   "execution_count": 17,
   "metadata": {},
   "outputs": [
    {
     "name": "stdout",
     "output_type": "stream",
     "text": [
      "0.46555412922550277\n"
     ]
    }
   ],
   "source": [
    "clf = OneToOneSVM()\n",
    "clf.fit(X_train,y_train)\n",
    "y_pred = clf.predict(X_test)\n",
    "print(accuracy_score(y_test,y_pred))"
   ]
  },
  {
   "cell_type": "code",
   "execution_count": 19,
   "metadata": {},
   "outputs": [
    {
     "name": "stdout",
     "output_type": "stream",
     "text": [
      "              precision    recall  f1-score   support\n",
      "\n",
      "       Angry       0.67      0.58      0.62       367\n",
      "     Disgust       0.37      0.62      0.46       383\n",
      "        Fear       0.71      0.23      0.34       399\n",
      "       Happy       0.42      0.37      0.39       359\n",
      "     Neutral       0.98      0.23      0.38       349\n",
      "         Sad       0.38      0.85      0.52       368\n",
      "   Surprised       0.96      0.21      0.35       112\n",
      "\n",
      "    accuracy                           0.47      2337\n",
      "   macro avg       0.64      0.44      0.44      2337\n",
      "weighted avg       0.60      0.47      0.45      2337\n",
      "\n"
     ]
    }
   ],
   "source": [
    "print(classification_report(y_test, y_pred))"
   ]
  },
  {
   "cell_type": "code",
   "execution_count": 34,
   "metadata": {},
   "outputs": [
    {
     "name": "stdout",
     "output_type": "stream",
     "text": [
      "{'Angry': {'precision': 0.6698113207547169, 'recall': 0.5803814713896458, 'f1-score': 0.621897810218978, 'support': 367.0}, 'Disgust': {'precision': 0.36702954898911355, 'recall': 0.6161879895561357, 'f1-score': 0.4600389863547758, 'support': 383.0}, 'Fear': {'precision': 0.7142857142857143, 'recall': 0.22556390977443608, 'f1-score': 0.34285714285714286, 'support': 399.0}, 'Happy': {'precision': 0.4177215189873418, 'recall': 0.36768802228412256, 'f1-score': 0.39111111111111113, 'support': 359.0}, 'Neutral': {'precision': 0.9759036144578314, 'recall': 0.23209169054441262, 'f1-score': 0.375, 'support': 349.0}, 'Sad': {'precision': 0.37772397094430993, 'recall': 0.8478260869565217, 'f1-score': 0.5226130653266332, 'support': 368.0}, 'Surprised': {'precision': 0.96, 'recall': 0.21428571428571427, 'f1-score': 0.35036496350364965, 'support': 112.0}}\n"
     ]
    },
    {
     "data": {
      "image/png": "[encoded data removed]",
      "text/plain": [
       "<Figure size 1200x1000 with 2 Axes>"
      ]
     },
     "metadata": {},
     "output_type": "display_data"
    }
   ],
   "source": [
    "report_dict = classification_report(y_test, y_pred, output_dict=True)\n",
    "report_dict = {'Angry': report_dict['Angry'], 'Disgust': report_dict['Disgust'], 'Fear': report_dict['Fear'], 'Happy': report_dict['Happy'], 'Neutral': report_dict['Neutral'], 'Sad': report_dict['Sad'], 'Neutral': report_dict['Neutral'], 'Surprised': report_dict['Surprised']}\n",
    "print(report_dict)\n",
    "\n",
    "class_labels = list(report_dict.keys())\n",
    "\n",
    "precision = [report_dict[label]['precision'] for label in class_labels]\n",
    "recall = [report_dict[label]['recall'] for label in class_labels]\n",
    "f1_score = [report_dict[label]['f1-score'] for label in class_labels]\n",
    "support = [report_dict[label]['support'] for label in class_labels]\n",
    "\n",
    "x = np.arange(len(class_labels))\n",
    "width = 0.25\n",
    "\n",
    "fig, axs = plt.subplots(2, 1, figsize=(12, 10))\n",
    "axs[0].bar(x - width, precision, width, label='Precision', color='orange')\n",
    "axs[0].bar(x, recall, width, label='Recall', color='tomato')\n",
    "axs[0].bar(x + width, f1_score, width, label='F1-Score', color='crimson')\n",
    "\n",
    "axs[0].set_ylabel('Score')\n",
    "axs[0].set_title('Classification Report Metrics per Class')\n",
    "axs[0].set_xticks(x)\n",
    "axs[0].set_xticklabels(class_labels)\n",
    "axs[0].legend()\n",
    "axs[0].set_ylim(0, 1.1)\n",
    "\n",
    "axs[1].bar(class_labels, support, color='skyblue')\n",
    "axs[1].set_ylabel('Support')\n",
    "axs[1].set_title('Support per Class')\n",
    "\n",
    "plt.tight_layout()\n",
    "plt.show()"
   ]
  },
  {
   "cell_type": "code",
   "execution_count": 18,
   "metadata": {},
   "outputs": [
    {
     "data": {
      "image/png": "[encoded data removed]",
      "text/plain": [
       "<Figure size 640x480 with 2 Axes>"
      ]
     },
     "metadata": {},
     "output_type": "display_data"
    }
   ],
   "source": [
    "cm = confusion_matrix(y_test, y_pred, labels=np.unique(y_test))\n",
    "disp = ConfusionMatrixDisplay(confusion_matrix=cm, display_labels=np.unique(y_test))\n",
    "disp.plot(cmap='Blues')\n",
    "plt.title(\"Confusion Matrix\")\n",
    "plt.show()\n"
   ]
  }
 ],
 "metadata": {
  "kernelspec": {
   "display_name": "Python 3",
   "language": "python",
   "name": "python3"
  },
  "language_info": {
   "codemirror_mode": {
    "name": "ipython",
    "version": 3
   },
   "file_extension": ".py",
   "mimetype": "text/x-python",
   "name": "python",
   "nbconvert_exporter": "python",
   "pygments_lexer": "ipython3",
   "version": "3.11.11"
  }
 },
 "nbformat": 4,
 "nbformat_minor": 2
}
